{
 "cells": [
  {
   "cell_type": "code",
   "execution_count": 1,
   "metadata": {},
   "outputs": [],
   "source": [
    "import gym\n",
    "from stable_baselines3.ppo import PPO"
   ]
  },
  {
   "cell_type": "code",
   "execution_count": 2,
   "metadata": {},
   "outputs": [],
   "source": [
    "env = gym.make(\"CarRacing-v0\")"
   ]
  },
  {
   "cell_type": "code",
   "execution_count": 3,
   "metadata": {},
   "outputs": [
    {
     "data": {
      "text/plain": [
       "(3,)"
      ]
     },
     "execution_count": 3,
     "metadata": {},
     "output_type": "execute_result"
    }
   ],
   "source": [
    "env.action_space.shape"
   ]
  },
  {
   "cell_type": "code",
   "execution_count": 4,
   "metadata": {},
   "outputs": [
    {
     "data": {
      "text/plain": [
       "(96, 96, 3)"
      ]
     },
     "execution_count": 4,
     "metadata": {},
     "output_type": "execute_result"
    }
   ],
   "source": [
    "env.observation_space.shape"
   ]
  },
  {
   "cell_type": "code",
   "execution_count": 5,
   "metadata": {},
   "outputs": [
    {
     "name": "stdout",
     "output_type": "stream",
     "text": [
      "Track generation: 1148..1442 -> 294-tiles track\n",
      "retry to generate track (normal if there are not manyinstances of this message)\n",
      "Track generation: 1143..1433 -> 290-tiles track\n"
     ]
    }
   ],
   "source": [
    "obs = env.reset()\n",
    "steps = 10\n",
    "for step in range(steps):\n",
    "    action = env.action_space.sample()\n",
    "    obs, rewards, dones, info = env.step(action)\n",
    "    env.render()\n",
    "env.close()"
   ]
  },
  {
   "cell_type": "code",
   "execution_count": 6,
   "metadata": {},
   "outputs": [
    {
     "name": "stdout",
     "output_type": "stream",
     "text": [
      "Track generation: 924..1168 -> 244-tiles track\n"
     ]
    }
   ],
   "source": [
    "# Propoerional Input Mixing\n",
    "# Assume human input is always [keyboard for foward and backward, joystick for steering]\n",
    "# For simplicity, assume that the driver is always on 0.8 gas and 0 brakes (this number can be further tuned)\n",
    "human_steering_action = 0.5\n",
    "human_action = [human_steering_action, 0.8, 0]\n",
    "episodes = 1\n",
    "done = False\n",
    "obs = env.reset()\n",
    "model = PPO.load(\"haptic/ppo_carracing\")\n",
    "for episode in range(episodes):\n",
    "    while not done:\n",
    "        action, _states = model.predict(obs)\n",
    "        agent_steering_action = action[0]\n",
    "        mixed_steering_action = 0.5*agent_steering_action + 0.5*human_steering_action\n",
    "        action[0] = mixed_steering_action\n",
    "        haptic_feedback = human_steering_action - agent_steering_action\n",
    "        obs, rewards, done, info = env.step(action)\n",
    "        env.render()\n",
    "env.close()"
   ]
  },
  {
   "cell_type": "code",
   "execution_count": null,
   "metadata": {},
   "outputs": [],
   "source": []
  }
 ],
 "metadata": {
  "kernelspec": {
   "display_name": "haptic",
   "language": "python",
   "name": "python3"
  },
  "language_info": {
   "codemirror_mode": {
    "name": "ipython",
    "version": 3
   },
   "file_extension": ".py",
   "mimetype": "text/x-python",
   "name": "python",
   "nbconvert_exporter": "python",
   "pygments_lexer": "ipython3",
   "version": "3.8.10"
  },
  "orig_nbformat": 4
 },
 "nbformat": 4,
 "nbformat_minor": 2
}
